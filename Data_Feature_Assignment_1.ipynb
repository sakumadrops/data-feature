{
  "nbformat": 4,
  "nbformat_minor": 0,
  "metadata": {
    "colab": {
      "provenance": [],
      "include_colab_link": true
    },
    "kernelspec": {
      "name": "python3",
      "display_name": "Python 3"
    },
    "language_info": {
      "name": "python"
    }
  },
  "cells": [
    {
      "cell_type": "markdown",
      "metadata": {
        "id": "view-in-github",
        "colab_type": "text"
      },
      "source": [
        "<a href=\"https://colab.research.google.com/github/sakumadrops/data-feature/blob/main/Data_Feature_Assignment_1.ipynb\" target=\"_parent\"><img src=\"https://colab.research.google.com/assets/colab-badge.svg\" alt=\"Open In Colab\"/></a>"
      ]
    },
    {
      "cell_type": "markdown",
      "source": [
        "Links to API:\n",
        "\n",
        "Song lyrics: https://lyricsovh.docs.apiary.io/#reference/0/lyrics-of-a-song/search\n",
        "\n",
        "Profanity Checker: https://www.purgomalum.com/index.html"
      ],
      "metadata": {
        "id": "y6Stv77Je0-y"
      }
    },
    {
      "cell_type": "code",
      "source": [
        "import requests # import library"
      ],
      "metadata": {
        "id": "_iKRIWuBh1J2"
      },
      "execution_count": null,
      "outputs": []
    },
    {
      "cell_type": "code",
      "source": [
        "# function to get lyrics with lyricsovh api\n",
        "def getLyrics(artist, title):\n",
        "  url = f\"https://api.lyrics.ovh/v1/{artist}/{title}\" # url mentioned in the documentation\n",
        "  response = requests.get(url) # get request\n",
        "  if response.status_code == 200: # ensure that the lyrics are found\n",
        "    data = response.json()\n",
        "    lyrics = data['lyrics'] # get the lyrics from the json data\n",
        "    return lyrics\n",
        "  else: # if no lyrics are found\n",
        "    return \"No Lyrics Found\""
      ],
      "metadata": {
        "id": "Pw6UAr79h5N5"
      },
      "execution_count": null,
      "outputs": []
    },
    {
      "cell_type": "code",
      "source": [
        "# function to check if lyrics contain profanity using the purgomalum api\n",
        "def containsProfanity(lyrics):\n",
        "  url = f\"https://www.purgomalum.com/service/containsprofanity?text={lyrics}\" # url mentioned in the documentation\n",
        "  r = requests.get(url) # get request\n",
        "  if r.status_code == 200:\n",
        "    return r.text # returns true if profanity found and false if not found\n",
        "  else:\n",
        "    return \"Cant Check\" # if request fails"
      ],
      "metadata": {
        "id": "lUVmvVATkvRV"
      },
      "execution_count": null,
      "outputs": []
    },
    {
      "cell_type": "code",
      "source": [
        "# take input from the user about their favourite song and its artist\n",
        "artist = input(\"Enter the Artist's Name: \")\n",
        "title = input(\"Enter the Song Name: \")\n",
        "\n",
        "\n",
        "returnedLyrics = getLyrics(artist, title) # get the lyrics\n",
        "\n",
        "if returnedLyrics == \"No Lyrics Found\":\n",
        "  print(\"No Lyrics Found\") # if the name of the singer or artist is wrong\n",
        "else: # if the lyrics are found\n",
        "  decision = containsProfanity(returnedLyrics) # check if the lyrics contain profanity\n",
        "  if (decision == \"false\"): # if the lyrics dont contain profanity\n",
        "    print(title.title() + \" by \" + artist.title() + \" does not contain profanity\")\n",
        "  elif (decision == \"true\"):\n",
        "    print(title.title() + \" by \" + artist.title() + \" contains profanity\")\n",
        "  else: # if the check is not sucessful\n",
        "    print(\"Cant Check for Profanity\")"
      ],
      "metadata": {
        "colab": {
          "base_uri": "https://localhost:8080/"
        },
        "id": "CVxamcDlWG8g",
        "outputId": "6659069f-68be-4800-8ad4-0eec59b77eee"
      },
      "execution_count": null,
      "outputs": [
        {
          "output_type": "stream",
          "name": "stdout",
          "text": [
            "Enter the Artist's Name: Eminem\n",
            "Enter the Song Name: Kill You\n",
            "Kill You by Eminem contains profanity\n"
          ]
        }
      ]
    }
  ]
}